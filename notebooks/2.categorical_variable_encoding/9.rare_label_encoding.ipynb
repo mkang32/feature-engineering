{
 "cells": [
  {
   "cell_type": "markdown",
   "metadata": {},
   "source": [
    "# Rare Label Encoding\n",
    "\n",
    "**Definition**\n",
    "- Grouping rare labels (usually less than 5% of observations) into `Rare` label\n",
    "- Create a dictionary of a list of frequent (non-rare) labels for each variable, and convert labels that are not in the list into `Rare` label.\n",
    "\n",
    "**Benefit** \n",
    "- Rare labels can create overfitting as it does not have enough samples to provide generaliable information. Grouping rare labels into one group helps avoid overfitting. \n",
    "- It also helps handling of unseen labels when a model is in production."
   ]
  },
  {
   "cell_type": "code",
   "execution_count": 1,
   "metadata": {},
   "outputs": [],
   "source": [
    "import pandas as pd\n",
    "import numpy as np\n",
    "import matplotlib.pyplot as plt\n",
    "\n",
    "from sklearn.model_selection import train_test_split"
   ]
  },
  {
   "cell_type": "code",
   "execution_count": 2,
   "metadata": {},
   "outputs": [],
   "source": [
    "df = pd.read_csv('../data/house_price/train.csv')"
   ]
  },
  {
   "cell_type": "code",
   "execution_count": 3,
   "metadata": {},
   "outputs": [
    {
     "data": {
      "text/html": [
       "<div>\n",
       "<style scoped>\n",
       "    .dataframe tbody tr th:only-of-type {\n",
       "        vertical-align: middle;\n",
       "    }\n",
       "\n",
       "    .dataframe tbody tr th {\n",
       "        vertical-align: top;\n",
       "    }\n",
       "\n",
       "    .dataframe thead th {\n",
       "        text-align: right;\n",
       "    }\n",
       "</style>\n",
       "<table border=\"1\" class=\"dataframe\">\n",
       "  <thead>\n",
       "    <tr style=\"text-align: right;\">\n",
       "      <th></th>\n",
       "      <th>Id</th>\n",
       "      <th>MSSubClass</th>\n",
       "      <th>MSZoning</th>\n",
       "      <th>LotFrontage</th>\n",
       "      <th>LotArea</th>\n",
       "      <th>Street</th>\n",
       "      <th>Alley</th>\n",
       "      <th>LotShape</th>\n",
       "      <th>LandContour</th>\n",
       "      <th>Utilities</th>\n",
       "      <th>...</th>\n",
       "      <th>PoolArea</th>\n",
       "      <th>PoolQC</th>\n",
       "      <th>Fence</th>\n",
       "      <th>MiscFeature</th>\n",
       "      <th>MiscVal</th>\n",
       "      <th>MoSold</th>\n",
       "      <th>YrSold</th>\n",
       "      <th>SaleType</th>\n",
       "      <th>SaleCondition</th>\n",
       "      <th>SalePrice</th>\n",
       "    </tr>\n",
       "  </thead>\n",
       "  <tbody>\n",
       "    <tr>\n",
       "      <th>0</th>\n",
       "      <td>1</td>\n",
       "      <td>60</td>\n",
       "      <td>RL</td>\n",
       "      <td>65.0</td>\n",
       "      <td>8450</td>\n",
       "      <td>Pave</td>\n",
       "      <td>NaN</td>\n",
       "      <td>Reg</td>\n",
       "      <td>Lvl</td>\n",
       "      <td>AllPub</td>\n",
       "      <td>...</td>\n",
       "      <td>0</td>\n",
       "      <td>NaN</td>\n",
       "      <td>NaN</td>\n",
       "      <td>NaN</td>\n",
       "      <td>0</td>\n",
       "      <td>2</td>\n",
       "      <td>2008</td>\n",
       "      <td>WD</td>\n",
       "      <td>Normal</td>\n",
       "      <td>208500</td>\n",
       "    </tr>\n",
       "    <tr>\n",
       "      <th>1</th>\n",
       "      <td>2</td>\n",
       "      <td>20</td>\n",
       "      <td>RL</td>\n",
       "      <td>80.0</td>\n",
       "      <td>9600</td>\n",
       "      <td>Pave</td>\n",
       "      <td>NaN</td>\n",
       "      <td>Reg</td>\n",
       "      <td>Lvl</td>\n",
       "      <td>AllPub</td>\n",
       "      <td>...</td>\n",
       "      <td>0</td>\n",
       "      <td>NaN</td>\n",
       "      <td>NaN</td>\n",
       "      <td>NaN</td>\n",
       "      <td>0</td>\n",
       "      <td>5</td>\n",
       "      <td>2007</td>\n",
       "      <td>WD</td>\n",
       "      <td>Normal</td>\n",
       "      <td>181500</td>\n",
       "    </tr>\n",
       "    <tr>\n",
       "      <th>2</th>\n",
       "      <td>3</td>\n",
       "      <td>60</td>\n",
       "      <td>RL</td>\n",
       "      <td>68.0</td>\n",
       "      <td>11250</td>\n",
       "      <td>Pave</td>\n",
       "      <td>NaN</td>\n",
       "      <td>IR1</td>\n",
       "      <td>Lvl</td>\n",
       "      <td>AllPub</td>\n",
       "      <td>...</td>\n",
       "      <td>0</td>\n",
       "      <td>NaN</td>\n",
       "      <td>NaN</td>\n",
       "      <td>NaN</td>\n",
       "      <td>0</td>\n",
       "      <td>9</td>\n",
       "      <td>2008</td>\n",
       "      <td>WD</td>\n",
       "      <td>Normal</td>\n",
       "      <td>223500</td>\n",
       "    </tr>\n",
       "    <tr>\n",
       "      <th>3</th>\n",
       "      <td>4</td>\n",
       "      <td>70</td>\n",
       "      <td>RL</td>\n",
       "      <td>60.0</td>\n",
       "      <td>9550</td>\n",
       "      <td>Pave</td>\n",
       "      <td>NaN</td>\n",
       "      <td>IR1</td>\n",
       "      <td>Lvl</td>\n",
       "      <td>AllPub</td>\n",
       "      <td>...</td>\n",
       "      <td>0</td>\n",
       "      <td>NaN</td>\n",
       "      <td>NaN</td>\n",
       "      <td>NaN</td>\n",
       "      <td>0</td>\n",
       "      <td>2</td>\n",
       "      <td>2006</td>\n",
       "      <td>WD</td>\n",
       "      <td>Abnorml</td>\n",
       "      <td>140000</td>\n",
       "    </tr>\n",
       "    <tr>\n",
       "      <th>4</th>\n",
       "      <td>5</td>\n",
       "      <td>60</td>\n",
       "      <td>RL</td>\n",
       "      <td>84.0</td>\n",
       "      <td>14260</td>\n",
       "      <td>Pave</td>\n",
       "      <td>NaN</td>\n",
       "      <td>IR1</td>\n",
       "      <td>Lvl</td>\n",
       "      <td>AllPub</td>\n",
       "      <td>...</td>\n",
       "      <td>0</td>\n",
       "      <td>NaN</td>\n",
       "      <td>NaN</td>\n",
       "      <td>NaN</td>\n",
       "      <td>0</td>\n",
       "      <td>12</td>\n",
       "      <td>2008</td>\n",
       "      <td>WD</td>\n",
       "      <td>Normal</td>\n",
       "      <td>250000</td>\n",
       "    </tr>\n",
       "  </tbody>\n",
       "</table>\n",
       "<p>5 rows × 81 columns</p>\n",
       "</div>"
      ],
      "text/plain": [
       "   Id  MSSubClass MSZoning  LotFrontage  LotArea Street Alley LotShape  \\\n",
       "0   1          60       RL         65.0     8450   Pave   NaN      Reg   \n",
       "1   2          20       RL         80.0     9600   Pave   NaN      Reg   \n",
       "2   3          60       RL         68.0    11250   Pave   NaN      IR1   \n",
       "3   4          70       RL         60.0     9550   Pave   NaN      IR1   \n",
       "4   5          60       RL         84.0    14260   Pave   NaN      IR1   \n",
       "\n",
       "  LandContour Utilities  ... PoolArea PoolQC Fence MiscFeature MiscVal MoSold  \\\n",
       "0         Lvl    AllPub  ...        0    NaN   NaN         NaN       0      2   \n",
       "1         Lvl    AllPub  ...        0    NaN   NaN         NaN       0      5   \n",
       "2         Lvl    AllPub  ...        0    NaN   NaN         NaN       0      9   \n",
       "3         Lvl    AllPub  ...        0    NaN   NaN         NaN       0      2   \n",
       "4         Lvl    AllPub  ...        0    NaN   NaN         NaN       0     12   \n",
       "\n",
       "  YrSold  SaleType  SaleCondition  SalePrice  \n",
       "0   2008        WD         Normal     208500  \n",
       "1   2007        WD         Normal     181500  \n",
       "2   2008        WD         Normal     223500  \n",
       "3   2006        WD        Abnorml     140000  \n",
       "4   2008        WD         Normal     250000  \n",
       "\n",
       "[5 rows x 81 columns]"
      ]
     },
     "execution_count": 3,
     "metadata": {},
     "output_type": "execute_result"
    }
   ],
   "source": [
    "df.head()"
   ]
  },
  {
   "cell_type": "markdown",
   "metadata": {},
   "source": [
    "# Fill NaN with 'missing'"
   ]
  },
  {
   "cell_type": "code",
   "execution_count": 4,
   "metadata": {},
   "outputs": [],
   "source": [
    "df = df.fillna('missing')"
   ]
  },
  {
   "cell_type": "markdown",
   "metadata": {},
   "source": [
    "# Split data"
   ]
  },
  {
   "cell_type": "code",
   "execution_count": 5,
   "metadata": {},
   "outputs": [
    {
     "data": {
      "text/plain": [
       "((1022, 80), (438, 80))"
      ]
     },
     "execution_count": 5,
     "metadata": {},
     "output_type": "execute_result"
    }
   ],
   "source": [
    "X_train, X_test, y_train, y_test = train_test_split(df.drop('SalePrice', axis=1), \n",
    "                                                    df['SalePrice'],\n",
    "                                                   test_size=0.3,\n",
    "                                                   random_state=0)\n",
    "\n",
    "X_train.shape, X_test.shape"
   ]
  },
  {
   "cell_type": "markdown",
   "metadata": {},
   "source": [
    "# Variables in different cardinality level "
   ]
  },
  {
   "cell_type": "code",
   "execution_count": 6,
   "metadata": {},
   "outputs": [
    {
     "data": {
      "text/plain": [
       "Index(['MSZoning', 'LotFrontage', 'Street', 'Alley', 'LotShape', 'LandContour',\n",
       "       'Utilities', 'LotConfig', 'LandSlope', 'Neighborhood', 'Condition1',\n",
       "       'Condition2', 'BldgType', 'HouseStyle', 'RoofStyle', 'RoofMatl',\n",
       "       'Exterior1st', 'Exterior2nd', 'MasVnrType', 'MasVnrArea', 'ExterQual',\n",
       "       'ExterCond', 'Foundation', 'BsmtQual', 'BsmtCond', 'BsmtExposure',\n",
       "       'BsmtFinType1', 'BsmtFinType2', 'Heating', 'HeatingQC', 'CentralAir',\n",
       "       'Electrical', 'KitchenQual', 'Functional', 'FireplaceQu', 'GarageType',\n",
       "       'GarageYrBlt', 'GarageFinish', 'GarageQual', 'GarageCond', 'PavedDrive',\n",
       "       'PoolQC', 'Fence', 'MiscFeature', 'SaleType', 'SaleCondition'],\n",
       "      dtype='object')"
      ]
     },
     "execution_count": 6,
     "metadata": {},
     "output_type": "execute_result"
    }
   ],
   "source": [
    "# find variables with data type 'object', which means categorical\n",
    "categorical_vars = X_train.dtypes[X_train.dtypes == 'O'].index\n",
    "categorical_vars"
   ]
  },
  {
   "cell_type": "markdown",
   "metadata": {},
   "source": [
    "## Variables with 2 categories (one dominant category)"
   ]
  },
  {
   "cell_type": "code",
   "execution_count": 7,
   "metadata": {},
   "outputs": [
    {
     "name": "stdout",
     "output_type": "stream",
     "text": [
      "Pave    0.995108\n",
      "Grvl    0.004892\n",
      "Name: Street, dtype: float64\n",
      "\n",
      "AllPub    0.999022\n",
      "NoSeWa    0.000978\n",
      "Name: Utilities, dtype: float64\n",
      "\n",
      "Y    0.931507\n",
      "N    0.068493\n",
      "Name: CentralAir, dtype: float64\n",
      "\n"
     ]
    }
   ],
   "source": [
    "# find variables there are only 2 or less categories and their frequencies\n",
    "\n",
    "for col in categorical_vars: \n",
    "    if X_train[col].nunique() <= 2:\n",
    "        print(X_train[col].value_counts()/len(X_train))\n",
    "        print()"
   ]
  },
  {
   "cell_type": "markdown",
   "metadata": {},
   "source": [
    "In the above example, the dominent variables from each variable (`Pave`, `AllPub`, and `Y`) composes more than 90% of the dataset. We can perform exploratory analysis to see if adding these three variables is useful. In not, we can drop the entire three columns."
   ]
  },
  {
   "cell_type": "markdown",
   "metadata": {},
   "source": [
    "## Variables with a few categories"
   ]
  },
  {
   "cell_type": "code",
   "execution_count": 8,
   "metadata": {
    "scrolled": true
   },
   "outputs": [
    {
     "name": "stdout",
     "output_type": "stream",
     "text": [
      "missing    0.939335\n",
      "Pave       0.031311\n",
      "Grvl       0.029354\n",
      "Name: Alley, dtype: float64\n",
      "\n",
      "Reg    0.628180\n",
      "IR1    0.337573\n",
      "IR2    0.028376\n",
      "IR3    0.005871\n",
      "Name: LotShape, dtype: float64\n",
      "\n",
      "Lvl    0.903131\n",
      "Bnk    0.043053\n",
      "HLS    0.027397\n",
      "Low    0.026419\n",
      "Name: LandContour, dtype: float64\n",
      "\n",
      "Gtl    0.941292\n",
      "Mod    0.048924\n",
      "Sev    0.009785\n",
      "Name: LandSlope, dtype: float64\n",
      "\n",
      "TA    0.626223\n",
      "Gd    0.332681\n",
      "Ex    0.029354\n",
      "Fa    0.011742\n",
      "Name: ExterQual, dtype: float64\n",
      "\n",
      "TA    0.512720\n",
      "Gd    0.392368\n",
      "Ex    0.066536\n",
      "Fa    0.028376\n",
      "Name: KitchenQual, dtype: float64\n",
      "\n",
      "Unf        0.408023\n",
      "RFn        0.297456\n",
      "Fin        0.241683\n",
      "missing    0.052838\n",
      "Name: GarageFinish, dtype: float64\n",
      "\n",
      "Y    0.912916\n",
      "N    0.069472\n",
      "P    0.017613\n",
      "Name: PavedDrive, dtype: float64\n",
      "\n",
      "missing    0.997065\n",
      "Gd         0.001957\n",
      "Ex         0.000978\n",
      "Name: PoolQC, dtype: float64\n",
      "\n",
      "missing    0.956947\n",
      "Shed       0.039139\n",
      "Gar2       0.001957\n",
      "Othr       0.001957\n",
      "Name: MiscFeature, dtype: float64\n",
      "\n"
     ]
    }
   ],
   "source": [
    "for col in categorical_vars:\n",
    "    n_unique = X_train[col].nunique()\n",
    "    if n_unique > 2 and n_unique <5:\n",
    "        print(X_train[col].value_counts()/len(X_train))\n",
    "        print()"
   ]
  },
  {
   "cell_type": "markdown",
   "metadata": {},
   "source": [
    "There is almost always at least one infrequent category, meaning it composes less than 5% of the observations. \n",
    "\n",
    "When there is one dominent category and all other categories are infrequent (e.g. `Alley`), it might not be worth grouping them into a `Rare` category, as it will be then the same situation as the first case we saw (one dominent category and the other `Rare` category). In this case, we may want to perform an EDA to see if it is worth adding this variable or not. \n",
    "\n",
    "When there are at least two frequent categories and at least two infrequent categories (e.g. `LotShape`), it could be a good candidate to group infrequent categories into one `Rare` group."
   ]
  },
  {
   "cell_type": "markdown",
   "metadata": {},
   "source": [
    "## Variables with high cardinality"
   ]
  },
  {
   "cell_type": "code",
   "execution_count": 9,
   "metadata": {
    "scrolled": true
   },
   "outputs": [
    {
     "name": "stdout",
     "output_type": "stream",
     "text": [
      "LotFrontage: 102 labels\n",
      "missing    0.184932\n",
      "60.0       0.091977\n",
      "80.0       0.054795\n",
      "50.0       0.040117\n",
      "70.0       0.035225\n",
      "75.0       0.035225\n",
      "85.0       0.028376\n",
      "65.0       0.025440\n",
      "90.0       0.017613\n",
      "78.0       0.017613\n",
      "Name: LotFrontage, dtype: float64\n",
      "\n",
      "Neighborhood: 25 labels\n",
      "NAmes      0.147750\n",
      "CollgCr    0.102740\n",
      "OldTown    0.071429\n",
      "Edwards    0.069472\n",
      "Sawyer     0.059687\n",
      "Somerst    0.054795\n",
      "Gilbert    0.053816\n",
      "NWAmes     0.049902\n",
      "NridgHt    0.049902\n",
      "SawyerW    0.044031\n",
      "Name: Neighborhood, dtype: float64\n",
      "\n",
      "Exterior1st: 15 labels\n",
      "VinylSd    0.356164\n",
      "HdBoard    0.149706\n",
      "Wd Sdng    0.144814\n",
      "MetalSd    0.135029\n",
      "Plywood    0.084149\n",
      "CemntBd    0.038160\n",
      "BrkFace    0.034247\n",
      "WdShing    0.020548\n",
      "Stucco     0.016634\n",
      "AsbShng    0.014677\n",
      "Name: Exterior1st, dtype: float64\n",
      "\n",
      "Exterior2nd: 16 labels\n",
      "VinylSd    0.345401\n",
      "Wd Sdng    0.138943\n",
      "HdBoard    0.137965\n",
      "MetalSd    0.133072\n",
      "Plywood    0.109589\n",
      "CmentBd    0.038160\n",
      "Wd Shng    0.028376\n",
      "BrkFace    0.017613\n",
      "AsbShng    0.016634\n",
      "Stucco     0.015656\n",
      "Name: Exterior2nd, dtype: float64\n",
      "\n",
      "MasVnrArea: 262 labels\n",
      "0.0        0.594912\n",
      "16.0       0.006849\n",
      "108.0      0.005871\n",
      "106.0      0.005871\n",
      "132.0      0.004892\n",
      "180.0      0.004892\n",
      "320.0      0.004892\n",
      "missing    0.004892\n",
      "196.0      0.003914\n",
      "288.0      0.003914\n",
      "Name: MasVnrArea, dtype: float64\n",
      "\n",
      "GarageYrBlt: 95 labels\n",
      "missing    0.052838\n",
      "2005.0     0.045010\n",
      "2006.0     0.039139\n",
      "2003.0     0.036204\n",
      "2004.0     0.032290\n",
      "2007.0     0.029354\n",
      "1977.0     0.026419\n",
      "1998.0     0.023483\n",
      "1999.0     0.019569\n",
      "2008.0     0.019569\n",
      "Name: GarageYrBlt, dtype: float64\n",
      "\n"
     ]
    }
   ],
   "source": [
    "# variables with more than 10 categories. Print the top 10 categories for each variable \n",
    "for col in categorical_vars:\n",
    "    if X_train[col].nunique() >10:\n",
    "        print(f\"{col}: {X_train[col].nunique()} labels\")\n",
    "        print((X_train[col].value_counts()/len(X_train)).head(10))\n",
    "        print()"
   ]
  },
  {
   "cell_type": "code",
   "execution_count": 10,
   "metadata": {},
   "outputs": [
    {
     "name": "stdout",
     "output_type": "stream",
     "text": [
      "LotFrontage: 102 labels\n"
     ]
    },
    {
     "data": {
      "image/png": "[encoded data removed]",
      "text/plain": [
       "<Figure size 432x288 with 1 Axes>"
      ]
     },
     "metadata": {
      "needs_background": "light"
     },
     "output_type": "display_data"
    },
    {
     "name": "stdout",
     "output_type": "stream",
     "text": [
      "Neighborhood: 25 labels\n"
     ]
    },
    {
     "data": {
      "image/png": "[encoded data removed]",
      "text/plain": [
       "<Figure size 432x288 with 1 Axes>"
      ]
     },
     "metadata": {
      "needs_background": "light"
     },
     "output_type": "display_data"
    },
    {
     "name": "stdout",
     "output_type": "stream",
     "text": [
      "Exterior1st: 15 labels\n"
     ]
    },
    {
     "data": {
      "image/png": "[encoded data removed]",
      "text/plain": [
       "<Figure size 432x288 with 1 Axes>"
      ]
     },
     "metadata": {
      "needs_background": "light"
     },
     "output_type": "display_data"
    },
    {
     "name": "stdout",
     "output_type": "stream",
     "text": [
      "Exterior2nd: 16 labels\n"
     ]
    },
    {
     "data": {
      "image/png": "[encoded data removed]",
      "text/plain": [
       "<Figure size 432x288 with 1 Axes>"
      ]
     },
     "metadata": {
      "needs_background": "light"
     },
     "output_type": "display_data"
    },
    {
     "name": "stdout",
     "output_type": "stream",
     "text": [
      "MasVnrArea: 262 labels\n"
     ]
    },
    {
     "data": {
      "image/png": "[encoded data removed]",
      "text/plain": [
       "<Figure size 432x288 with 1 Axes>"
      ]
     },
     "metadata": {
      "needs_background": "light"
     },
     "output_type": "display_data"
    },
    {
     "name": "stdout",
     "output_type": "stream",
     "text": [
      "GarageYrBlt: 95 labels\n"
     ]
    },
    {
     "data": {
      "image/png": "[encoded data removed]",
      "text/plain": [
       "<Figure size 432x288 with 1 Axes>"
      ]
     },
     "metadata": {
      "needs_background": "light"
     },
     "output_type": "display_data"
    }
   ],
   "source": [
    "for col in categorical_vars:\n",
    "    if X_train[col].nunique() >10:\n",
    "        print(f\"{col}: {X_train[col].nunique()} labels\")\n",
    "        fig, ax = plt.subplots()\n",
    "        temp = (X_train[col].value_counts()/len(X_train)).head(10)\n",
    "        temp.plot.bar()\n",
    "        plt.xlabel(col)\n",
    "        plt.ylabel('Percentage of houses')\n",
    "\n",
    "        # horizontal line \n",
    "        plt.axhline(y=0.05)\n",
    "        plt.show()\n",
    "        "
   ]
  },
  {
   "cell_type": "markdown",
   "metadata": {},
   "source": [
    "Most of them, except for `MasVnrArea` and `GarageYrBlt`, have at least a few frequent categories. They would be good candidates for rare category grouping."
   ]
  },
  {
   "cell_type": "markdown",
   "metadata": {},
   "source": [
    "# Grouping rare labels"
   ]
  },
  {
   "cell_type": "code",
   "execution_count": 11,
   "metadata": {},
   "outputs": [],
   "source": [
    "# find frequent (non-rare) labels \n",
    "def find_non_rare_labels(df, variable, tolerance):\n",
    "    temp = df[variable].value_counts()/len(df)\n",
    "    non_rare = list(temp[temp > tolerance].index.values)\n",
    "    return non_rare \n",
    "\n",
    "# encoding\n",
    "non_rare_dict = {}\n",
    "for col in categorical_vars:\n",
    "    non_rare = find_non_rare_labels(X_train, col, tolerance=0.05)\n",
    "    non_rare_dict[col] = non_rare"
   ]
  },
  {
   "cell_type": "code",
   "execution_count": 12,
   "metadata": {},
   "outputs": [
    {
     "data": {
      "text/plain": [
       "{'MSZoning': ['RL', 'RM'],\n",
       " 'LotFrontage': ['missing', 60.0, 80.0],\n",
       " 'Street': ['Pave'],\n",
       " 'Alley': ['missing'],\n",
       " 'LotShape': ['Reg', 'IR1'],\n",
       " 'LandContour': ['Lvl'],\n",
       " 'Utilities': ['AllPub'],\n",
       " 'LotConfig': ['Inside', 'Corner', 'CulDSac'],\n",
       " 'LandSlope': ['Gtl'],\n",
       " 'Neighborhood': ['NAmes',\n",
       "  'CollgCr',\n",
       "  'OldTown',\n",
       "  'Edwards',\n",
       "  'Sawyer',\n",
       "  'Somerst',\n",
       "  'Gilbert'],\n",
       " 'Condition1': ['Norm'],\n",
       " 'Condition2': ['Norm'],\n",
       " 'BldgType': ['1Fam', 'TwnhsE'],\n",
       " 'HouseStyle': ['1Story', '2Story', '1.5Fin'],\n",
       " 'RoofStyle': ['Gable', 'Hip'],\n",
       " 'RoofMatl': ['CompShg'],\n",
       " 'Exterior1st': ['VinylSd', 'HdBoard', 'Wd Sdng', 'MetalSd', 'Plywood'],\n",
       " 'Exterior2nd': ['VinylSd', 'Wd Sdng', 'HdBoard', 'MetalSd', 'Plywood'],\n",
       " 'MasVnrType': ['None', 'BrkFace', 'Stone'],\n",
       " 'MasVnrArea': [0.0],\n",
       " 'ExterQual': ['TA', 'Gd'],\n",
       " 'ExterCond': ['TA', 'Gd'],\n",
       " 'Foundation': ['PConc', 'CBlock', 'BrkTil'],\n",
       " 'BsmtQual': ['TA', 'Gd', 'Ex'],\n",
       " 'BsmtCond': ['TA'],\n",
       " 'BsmtExposure': ['No', 'Av', 'Gd', 'Mn'],\n",
       " 'BsmtFinType1': ['Unf', 'GLQ', 'ALQ', 'BLQ', 'Rec'],\n",
       " 'BsmtFinType2': ['Unf'],\n",
       " 'Heating': ['GasA'],\n",
       " 'HeatingQC': ['Ex', 'TA', 'Gd'],\n",
       " 'CentralAir': ['Y', 'N'],\n",
       " 'Electrical': ['SBrkr', 'FuseA'],\n",
       " 'KitchenQual': ['TA', 'Gd', 'Ex'],\n",
       " 'Functional': ['Typ'],\n",
       " 'FireplaceQu': ['missing', 'Gd', 'TA'],\n",
       " 'GarageType': ['Attchd', 'Detchd', 'BuiltIn', 'missing'],\n",
       " 'GarageYrBlt': ['missing'],\n",
       " 'GarageFinish': ['Unf', 'RFn', 'Fin', 'missing'],\n",
       " 'GarageQual': ['TA', 'missing'],\n",
       " 'GarageCond': ['TA', 'missing'],\n",
       " 'PavedDrive': ['Y', 'N'],\n",
       " 'PoolQC': ['missing'],\n",
       " 'Fence': ['missing', 'MnPrv'],\n",
       " 'MiscFeature': ['missing'],\n",
       " 'SaleType': ['WD', 'New'],\n",
       " 'SaleCondition': ['Normal', 'Partial', 'Abnorml']}"
      ]
     },
     "execution_count": 12,
     "metadata": {},
     "output_type": "execute_result"
    }
   ],
   "source": [
    "non_rare_dict"
   ]
  },
  {
   "cell_type": "code",
   "execution_count": 13,
   "metadata": {},
   "outputs": [],
   "source": [
    "# replacing \n",
    "def replace_with_rare(df, col, non_rare):\n",
    "    return np.where(df[col].isin(non_rare), df[col], 'Rare')\n",
    "\n",
    "# replacing \n",
    "for col in categorical_vars:\n",
    "    X_train[col] = replace_with_rare(X_train, col, non_rare_dict[col])\n"
   ]
  },
  {
   "cell_type": "code",
   "execution_count": 14,
   "metadata": {},
   "outputs": [
    {
     "data": {
      "text/html": [
       "<div>\n",
       "<style scoped>\n",
       "    .dataframe tbody tr th:only-of-type {\n",
       "        vertical-align: middle;\n",
       "    }\n",
       "\n",
       "    .dataframe tbody tr th {\n",
       "        vertical-align: top;\n",
       "    }\n",
       "\n",
       "    .dataframe thead th {\n",
       "        text-align: right;\n",
       "    }\n",
       "</style>\n",
       "<table border=\"1\" class=\"dataframe\">\n",
       "  <thead>\n",
       "    <tr style=\"text-align: right;\">\n",
       "      <th></th>\n",
       "      <th>Id</th>\n",
       "      <th>MSSubClass</th>\n",
       "      <th>MSZoning</th>\n",
       "      <th>LotFrontage</th>\n",
       "      <th>LotArea</th>\n",
       "      <th>Street</th>\n",
       "      <th>Alley</th>\n",
       "      <th>LotShape</th>\n",
       "      <th>LandContour</th>\n",
       "      <th>Utilities</th>\n",
       "      <th>...</th>\n",
       "      <th>ScreenPorch</th>\n",
       "      <th>PoolArea</th>\n",
       "      <th>PoolQC</th>\n",
       "      <th>Fence</th>\n",
       "      <th>MiscFeature</th>\n",
       "      <th>MiscVal</th>\n",
       "      <th>MoSold</th>\n",
       "      <th>YrSold</th>\n",
       "      <th>SaleType</th>\n",
       "      <th>SaleCondition</th>\n",
       "    </tr>\n",
       "  </thead>\n",
       "  <tbody>\n",
       "    <tr>\n",
       "      <th>64</th>\n",
       "      <td>65</td>\n",
       "      <td>60</td>\n",
       "      <td>RL</td>\n",
       "      <td>missing</td>\n",
       "      <td>9375</td>\n",
       "      <td>Pave</td>\n",
       "      <td>missing</td>\n",
       "      <td>Reg</td>\n",
       "      <td>Lvl</td>\n",
       "      <td>AllPub</td>\n",
       "      <td>...</td>\n",
       "      <td>0</td>\n",
       "      <td>0</td>\n",
       "      <td>missing</td>\n",
       "      <td>Rare</td>\n",
       "      <td>missing</td>\n",
       "      <td>0</td>\n",
       "      <td>2</td>\n",
       "      <td>2009</td>\n",
       "      <td>WD</td>\n",
       "      <td>Normal</td>\n",
       "    </tr>\n",
       "    <tr>\n",
       "      <th>682</th>\n",
       "      <td>683</td>\n",
       "      <td>120</td>\n",
       "      <td>RL</td>\n",
       "      <td>missing</td>\n",
       "      <td>2887</td>\n",
       "      <td>Pave</td>\n",
       "      <td>missing</td>\n",
       "      <td>Reg</td>\n",
       "      <td>Rare</td>\n",
       "      <td>AllPub</td>\n",
       "      <td>...</td>\n",
       "      <td>0</td>\n",
       "      <td>0</td>\n",
       "      <td>missing</td>\n",
       "      <td>missing</td>\n",
       "      <td>missing</td>\n",
       "      <td>0</td>\n",
       "      <td>11</td>\n",
       "      <td>2008</td>\n",
       "      <td>WD</td>\n",
       "      <td>Normal</td>\n",
       "    </tr>\n",
       "    <tr>\n",
       "      <th>960</th>\n",
       "      <td>961</td>\n",
       "      <td>20</td>\n",
       "      <td>RL</td>\n",
       "      <td>Rare</td>\n",
       "      <td>7207</td>\n",
       "      <td>Pave</td>\n",
       "      <td>missing</td>\n",
       "      <td>IR1</td>\n",
       "      <td>Lvl</td>\n",
       "      <td>AllPub</td>\n",
       "      <td>...</td>\n",
       "      <td>0</td>\n",
       "      <td>0</td>\n",
       "      <td>missing</td>\n",
       "      <td>missing</td>\n",
       "      <td>missing</td>\n",
       "      <td>0</td>\n",
       "      <td>2</td>\n",
       "      <td>2010</td>\n",
       "      <td>WD</td>\n",
       "      <td>Normal</td>\n",
       "    </tr>\n",
       "    <tr>\n",
       "      <th>1384</th>\n",
       "      <td>1385</td>\n",
       "      <td>50</td>\n",
       "      <td>RL</td>\n",
       "      <td>60</td>\n",
       "      <td>9060</td>\n",
       "      <td>Pave</td>\n",
       "      <td>missing</td>\n",
       "      <td>Reg</td>\n",
       "      <td>Lvl</td>\n",
       "      <td>AllPub</td>\n",
       "      <td>...</td>\n",
       "      <td>0</td>\n",
       "      <td>0</td>\n",
       "      <td>missing</td>\n",
       "      <td>MnPrv</td>\n",
       "      <td>missing</td>\n",
       "      <td>0</td>\n",
       "      <td>10</td>\n",
       "      <td>2009</td>\n",
       "      <td>WD</td>\n",
       "      <td>Normal</td>\n",
       "    </tr>\n",
       "    <tr>\n",
       "      <th>1100</th>\n",
       "      <td>1101</td>\n",
       "      <td>30</td>\n",
       "      <td>RL</td>\n",
       "      <td>60</td>\n",
       "      <td>8400</td>\n",
       "      <td>Pave</td>\n",
       "      <td>missing</td>\n",
       "      <td>Reg</td>\n",
       "      <td>Rare</td>\n",
       "      <td>AllPub</td>\n",
       "      <td>...</td>\n",
       "      <td>0</td>\n",
       "      <td>0</td>\n",
       "      <td>missing</td>\n",
       "      <td>missing</td>\n",
       "      <td>missing</td>\n",
       "      <td>0</td>\n",
       "      <td>1</td>\n",
       "      <td>2009</td>\n",
       "      <td>WD</td>\n",
       "      <td>Normal</td>\n",
       "    </tr>\n",
       "  </tbody>\n",
       "</table>\n",
       "<p>5 rows × 80 columns</p>\n",
       "</div>"
      ],
      "text/plain": [
       "        Id  MSSubClass MSZoning LotFrontage  LotArea Street    Alley LotShape  \\\n",
       "64      65          60       RL     missing     9375   Pave  missing      Reg   \n",
       "682    683         120       RL     missing     2887   Pave  missing      Reg   \n",
       "960    961          20       RL        Rare     7207   Pave  missing      IR1   \n",
       "1384  1385          50       RL          60     9060   Pave  missing      Reg   \n",
       "1100  1101          30       RL          60     8400   Pave  missing      Reg   \n",
       "\n",
       "     LandContour Utilities  ... ScreenPorch PoolArea   PoolQC    Fence  \\\n",
       "64           Lvl    AllPub  ...           0        0  missing     Rare   \n",
       "682         Rare    AllPub  ...           0        0  missing  missing   \n",
       "960          Lvl    AllPub  ...           0        0  missing  missing   \n",
       "1384         Lvl    AllPub  ...           0        0  missing    MnPrv   \n",
       "1100        Rare    AllPub  ...           0        0  missing  missing   \n",
       "\n",
       "     MiscFeature MiscVal MoSold  YrSold  SaleType  SaleCondition  \n",
       "64       missing       0      2    2009        WD         Normal  \n",
       "682      missing       0     11    2008        WD         Normal  \n",
       "960      missing       0      2    2010        WD         Normal  \n",
       "1384     missing       0     10    2009        WD         Normal  \n",
       "1100     missing       0      1    2009        WD         Normal  \n",
       "\n",
       "[5 rows x 80 columns]"
      ]
     },
     "execution_count": 14,
     "metadata": {},
     "output_type": "execute_result"
    }
   ],
   "source": [
    "X_train.head()"
   ]
  },
  {
   "cell_type": "code",
   "execution_count": 15,
   "metadata": {},
   "outputs": [
    {
     "name": "stdout",
     "output_type": "stream",
     "text": [
      "MSZoning: 3 labels\n"
     ]
    },
    {
     "data": {
      "image/png": "[encoded data removed]",
      "text/plain": [
       "<Figure size 432x288 with 1 Axes>"
      ]
     },
     "metadata": {
      "needs_background": "light"
     },
     "output_type": "display_data"
    },
    {
     "name": "stdout",
     "output_type": "stream",
     "text": [
      "LotFrontage: 4 labels\n"
     ]
    },
    {
     "data": {
      "image/png": "[encoded data removed]",
      "text/plain": [
       "<Figure size 432x288 with 1 Axes>"
      ]
     },
     "metadata": {
      "needs_background": "light"
     },
     "output_type": "display_data"
    },
    {
     "name": "stdout",
     "output_type": "stream",
     "text": [
      "Street: 2 labels\n"
     ]
    },
    {
     "data": {
      "image/png": "[encoded data removed]",
      "text/plain": [
       "<Figure size 432x288 with 1 Axes>"
      ]
     },
     "metadata": {
      "needs_background": "light"
     },
     "output_type": "display_data"
    },
    {
     "name": "stdout",
     "output_type": "stream",
     "text": [
      "Alley: 2 labels\n"
     ]
    },
    {
     "data": {
      "image/png": "[encoded data removed]",
      "text/plain": [
       "<Figure size 432x288 with 1 Axes>"
      ]
     },
     "metadata": {
      "needs_background": "light"
     },
     "output_type": "display_data"
    },
    {
     "name": "stdout",
     "output_type": "stream",
     "text": [
      "LotShape: 3 labels\n"
     ]
    },
    {
     "data": {
      "image/png": "[encoded data removed]",
      "text/plain": [
       "<Figure size 432x288 with 1 Axes>"
      ]
     },
     "metadata": {
      "needs_background": "light"
     },
     "output_type": "display_data"
    },
    {
     "name": "stdout",
     "output_type": "stream",
     "text": [
      "LandContour: 2 labels\n"
     ]
    },
    {
     "data": {
      "image/png": "[encoded data removed]",
      "text/plain": [
       "<Figure size 432x288 with 1 Axes>"
      ]
     },
     "metadata": {
      "needs_background": "light"
     },
     "output_type": "display_data"
    },
    {
     "name": "stdout",
     "output_type": "stream",
     "text": [
      "Utilities: 2 labels\n"
     ]
    },
    {
     "data": {
      "image/png": "[encoded data removed]",
      "text/plain": [
       "<Figure size 432x288 with 1 Axes>"
      ]
     },
     "metadata": {
      "needs_background": "light"
     },
     "output_type": "display_data"
    },
    {
     "name": "stdout",
     "output_type": "stream",
     "text": [
      "LotConfig: 4 labels\n"
     ]
    },
    {
     "data": {
      "image/png": "[encoded data removed]",
      "text/plain": [
       "<Figure size 432x288 with 1 Axes>"
      ]
     },
     "metadata": {
      "needs_background": "light"
     },
     "output_type": "display_data"
    },
    {
     "name": "stdout",
     "output_type": "stream",
     "text": [
      "LandSlope: 2 labels\n"
     ]
    },
    {
     "data": {
      "image/png": "[encoded data removed]",
      "text/plain": [
       "<Figure size 432x288 with 1 Axes>"
      ]
     },
     "metadata": {
      "needs_background": "light"
     },
     "output_type": "display_data"
    },
    {
     "name": "stdout",
     "output_type": "stream",
     "text": [
      "Neighborhood: 8 labels\n"
     ]
    },
    {
     "data": {
      "image/png": "[encoded data removed]",
      "text/plain": [
       "<Figure size 432x288 with 1 Axes>"
      ]
     },
     "metadata": {
      "needs_background": "light"
     },
     "output_type": "display_data"
    }
   ],
   "source": [
    "for col in categorical_vars[:10]:\n",
    "    print(f\"{col}: {X_train[col].nunique()} labels\")\n",
    "    fig, ax = plt.subplots()\n",
    "    temp = (X_train[col].value_counts()/len(X_train)).head(10)\n",
    "    temp.plot.bar()\n",
    "    plt.xlabel(col)\n",
    "    plt.ylabel('Percentage of houses')\n",
    "\n",
    "    # horizontal line \n",
    "    plt.axhline(y=0.05)\n",
    "    plt.show()\n",
    "        "
   ]
  },
  {
   "cell_type": "code",
   "execution_count": null,
   "metadata": {},
   "outputs": [],
   "source": []
  }
 ],
 "metadata": {
  "kernelspec": {
   "display_name": "feature-engineering",
   "language": "python",
   "name": "feature-engineering"
  },
  "language_info": {
   "codemirror_mode": {
    "name": "ipython",
    "version": 3
   },
   "file_extension": ".py",
   "mimetype": "text/x-python",
   "name": "python",
   "nbconvert_exporter": "python",
   "pygments_lexer": "ipython3",
   "version": "3.7.3"
  }
 },
 "nbformat": 4,
 "nbformat_minor": 2
}
