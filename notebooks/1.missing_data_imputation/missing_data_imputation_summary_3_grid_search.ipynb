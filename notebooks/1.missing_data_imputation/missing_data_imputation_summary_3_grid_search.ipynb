{
 "cells": [
  {
   "cell_type": "markdown",
   "metadata": {},
   "source": [
    "\n",
    "<br>\n",
    "<div style=\"text-align:center\">\n",
    "<img src=\"images/search.jpg\" alt=\"search\" width=\"600\"/>\n",
    "<figcaption>Photo by <a href=\"https://unsplash.com/@laughayette?utm_source=unsplash&amp;utm_medium=referral&amp;utm_content=creditCopyText\">Marten Newhall</a> on <a href=\"https://unsplash.com/s/photos/search?utm_source=unsplash&amp;utm_medium=referral&amp;utm_content=creditCopyText\">Unsplash</a></figcaption>"
   ]
  },
  {
   "cell_type": "markdown",
   "metadata": {},
   "source": [
    "# Prepare Data"
   ]
  },
  {
   "cell_type": "code",
   "execution_count": 1,
   "metadata": {},
   "outputs": [],
   "source": [
    "import pandas as pd \n",
    "\n",
    "# preparing data \n",
    "from sklearn.model_selection import train_test_split\n",
    "\n",
    "# feature scaling, encoding\n",
    "from sklearn.impute import SimpleImputer\n",
    "from sklearn.preprocessing import StandardScaler, OneHotEncoder\n",
    "\n",
    "# putting together in pipeline\n",
    "from sklearn.pipeline import Pipeline\n",
    "from sklearn.compose import ColumnTransformer\n",
    "\n",
    "# model selection\n",
    "from sklearn.linear_model import Lasso, LinearRegression\n",
    "from sklearn.model_selection import GridSearchCV"
   ]
  },
  {
   "cell_type": "code",
   "execution_count": 2,
   "metadata": {},
   "outputs": [
    {
     "data": {
      "text/plain": [
       "((1022, 79), (438, 79))"
      ]
     },
     "execution_count": 2,
     "metadata": {},
     "output_type": "execute_result"
    }
   ],
   "source": [
    "# import house price data \n",
    "df = pd.read_csv('../data/house_price/train.csv', index_col='Id')\n",
    "\n",
    "# numerical columns vs. categorical columns \n",
    "num_cols = df.drop('SalePrice', axis=1).select_dtypes('number').columns\n",
    "cat_cols = df.drop('SalePrice', axis=1).select_dtypes('object').columns\n",
    "\n",
    "X = df.drop('SalePrice', axis=1)\n",
    "y = df['SalePrice']\n",
    "\n",
    "# split train and test dataset \n",
    "X_train, X_test, y_train, y_test = train_test_split(df.drop('SalePrice', axis=1), \n",
    "                                                    df['SalePrice'], \n",
    "                                                    test_size=0.3, \n",
    "                                                    random_state=0)\n",
    "\n",
    "# check the size of train and test data\n",
    "X_train.shape, X_test.shape"
   ]
  },
  {
   "cell_type": "markdown",
   "metadata": {},
   "source": [
    "# Setup Pipeline"
   ]
  },
  {
   "cell_type": "code",
   "execution_count": 3,
   "metadata": {},
   "outputs": [
    {
     "data": {
      "text/plain": [
       "0.6308258188969262"
      ]
     },
     "execution_count": 3,
     "metadata": {},
     "output_type": "execute_result"
    }
   ],
   "source": [
    "# feature engineering pipeline for numerical variables \n",
    "num_pipeline= Pipeline([('imputer', SimpleImputer(strategy='mean')),\n",
    "                        ('scaler', StandardScaler())])\n",
    "\n",
    "# feature engineering pipeline for categorical variables \n",
    "cat_pipeline = Pipeline([('imputer', SimpleImputer(strategy='most_frequent')),\n",
    "                         ('encoder', OneHotEncoder(handle_unknown='ignore'))])\n",
    "\n",
    "# put numerical and categorical feature engineering pipelines together\n",
    "preprocessor = ColumnTransformer([(\"num_pipeline\", num_pipeline, num_cols),\n",
    "                                  (\"cat_pipeline\", cat_pipeline, cat_cols)])\n",
    "\n",
    "\n",
    "# put transformers and an estimator together\n",
    "pipe = Pipeline([('preprocessing', preprocessor),\n",
    "                 ('lasso', Lasso(max_iter=10000))])  # increased max_iter to converge\n",
    "\n",
    "# fit model \n",
    "pipe.fit(X_train, y_train)\n",
    "pipe.score(X_test, y_test)"
   ]
  },
  {
   "cell_type": "markdown",
   "metadata": {},
   "source": [
    "# Finding the best imputation technique using GridSearchCV"
   ]
  },
  {
   "cell_type": "code",
   "execution_count": 4,
   "metadata": {},
   "outputs": [
    {
     "data": {
      "text/plain": [
       "GridSearchCV(estimator=Pipeline(steps=[('preprocessing',\n",
       "                                        ColumnTransformer(transformers=[('num_pipeline',\n",
       "                                                                         Pipeline(steps=[('imputer',\n",
       "                                                                                          SimpleImputer()),\n",
       "                                                                                         ('scaler',\n",
       "                                                                                          StandardScaler())]),\n",
       "                                                                         Index(['MSSubClass', 'LotFrontage', 'LotArea', 'OverallQual', 'OverallCond',\n",
       "       'YearBuilt', 'YearRemodAdd', 'MasVnrArea', 'BsmtFinSF1', 'BsmtFinSF2',\n",
       "       'BsmtUnfSF', 'TotalBsmtSF', '1stFlrS...\n",
       "       'Functional', 'FireplaceQu', 'GarageType', 'GarageFinish', 'GarageQual',\n",
       "       'GarageCond', 'PavedDrive', 'PoolQC', 'Fence', 'MiscFeature',\n",
       "       'SaleType', 'SaleCondition'],\n",
       "      dtype='object'))])),\n",
       "                                       ('lasso', Lasso(max_iter=10000))]),\n",
       "             param_grid={'preprocessing__cat_pipeline__imputer__strategy': ['most_frequent'],\n",
       "                         'preprocessing__num_pipeline__imputer__strategy': ['mean',\n",
       "                                                                            'median',\n",
       "                                                                            'most_frequent']})"
      ]
     },
     "execution_count": 4,
     "metadata": {},
     "output_type": "execute_result"
    }
   ],
   "source": [
    "param_grid = dict(preprocessing__num_pipeline__imputer__strategy=['mean', 'median', 'most_frequent'],\n",
    "                  preprocessing__cat_pipeline__imputer__strategy=['most_frequent'])  # KNN \n",
    "\n",
    "grid_search = GridSearchCV(pipe, param_grid)\n",
    "\n",
    "grid_search.fit(X, y)"
   ]
  },
  {
   "cell_type": "code",
   "execution_count": 5,
   "metadata": {},
   "outputs": [
    {
     "data": {
      "text/plain": [
       "{'mean_fit_time': array([2.32447925, 2.24286404, 2.2551795 ]),\n",
       " 'std_fit_time': array([2.15180666, 2.05670675, 2.04442326]),\n",
       " 'mean_score_time': array([0.01562643, 0.0149888 , 0.01514149]),\n",
       " 'std_score_time': array([0.00092181, 0.0004646 , 0.00042794]),\n",
       " 'param_preprocessing__cat_pipeline__imputer__strategy': masked_array(data=['most_frequent', 'most_frequent', 'most_frequent'],\n",
       "              mask=[False, False, False],\n",
       "        fill_value='?',\n",
       "             dtype=object),\n",
       " 'param_preprocessing__num_pipeline__imputer__strategy': masked_array(data=['mean', 'median', 'most_frequent'],\n",
       "              mask=[False, False, False],\n",
       "        fill_value='?',\n",
       "             dtype=object),\n",
       " 'params': [{'preprocessing__cat_pipeline__imputer__strategy': 'most_frequent',\n",
       "   'preprocessing__num_pipeline__imputer__strategy': 'mean'},\n",
       "  {'preprocessing__cat_pipeline__imputer__strategy': 'most_frequent',\n",
       "   'preprocessing__num_pipeline__imputer__strategy': 'median'},\n",
       "  {'preprocessing__cat_pipeline__imputer__strategy': 'most_frequent',\n",
       "   'preprocessing__num_pipeline__imputer__strategy': 'most_frequent'}],\n",
       " 'split0_test_score': array([0.85570392, 0.85551299, 0.85582335]),\n",
       " 'split1_test_score': array([0.8228412 , 0.82308374, 0.82319623]),\n",
       " 'split2_test_score': array([0.80381056, 0.80386734, 0.80418338]),\n",
       " 'split3_test_score': array([0.88846653, 0.88861528, 0.8888325 ]),\n",
       " 'split4_test_score': array([0.63236809, 0.63240312, 0.63500004]),\n",
       " 'mean_test_score': array([0.80063806, 0.80069649, 0.8014071 ]),\n",
       " 'std_test_score': array([0.08895383, 0.08895894, 0.08806601]),\n",
       " 'rank_test_score': array([3, 2, 1], dtype=int32)}"
      ]
     },
     "execution_count": 5,
     "metadata": {},
     "output_type": "execute_result"
    }
   ],
   "source": [
    "grid_search.cv_results_"
   ]
  },
  {
   "cell_type": "code",
   "execution_count": 6,
   "metadata": {},
   "outputs": [
    {
     "data": {
      "text/html": [
       "<div>\n",
       "<style scoped>\n",
       "    .dataframe tbody tr th:only-of-type {\n",
       "        vertical-align: middle;\n",
       "    }\n",
       "\n",
       "    .dataframe tbody tr th {\n",
       "        vertical-align: top;\n",
       "    }\n",
       "\n",
       "    .dataframe thead th {\n",
       "        text-align: right;\n",
       "    }\n",
       "</style>\n",
       "<table border=\"1\" class=\"dataframe\">\n",
       "  <thead>\n",
       "    <tr style=\"text-align: right;\">\n",
       "      <th></th>\n",
       "      <th>mean_fit_time</th>\n",
       "      <th>std_fit_time</th>\n",
       "      <th>mean_score_time</th>\n",
       "      <th>std_score_time</th>\n",
       "      <th>param_preprocessing__cat_pipeline__imputer__strategy</th>\n",
       "      <th>param_preprocessing__num_pipeline__imputer__strategy</th>\n",
       "      <th>params</th>\n",
       "      <th>split0_test_score</th>\n",
       "      <th>split1_test_score</th>\n",
       "      <th>split2_test_score</th>\n",
       "      <th>split3_test_score</th>\n",
       "      <th>split4_test_score</th>\n",
       "      <th>mean_test_score</th>\n",
       "      <th>std_test_score</th>\n",
       "      <th>rank_test_score</th>\n",
       "    </tr>\n",
       "  </thead>\n",
       "  <tbody>\n",
       "    <tr>\n",
       "      <th>0</th>\n",
       "      <td>2.324479</td>\n",
       "      <td>2.151807</td>\n",
       "      <td>0.015626</td>\n",
       "      <td>0.000922</td>\n",
       "      <td>most_frequent</td>\n",
       "      <td>mean</td>\n",
       "      <td>{'preprocessing__cat_pipeline__imputer__strate...</td>\n",
       "      <td>0.855704</td>\n",
       "      <td>0.822841</td>\n",
       "      <td>0.803811</td>\n",
       "      <td>0.888467</td>\n",
       "      <td>0.632368</td>\n",
       "      <td>0.800638</td>\n",
       "      <td>0.088954</td>\n",
       "      <td>3</td>\n",
       "    </tr>\n",
       "    <tr>\n",
       "      <th>1</th>\n",
       "      <td>2.242864</td>\n",
       "      <td>2.056707</td>\n",
       "      <td>0.014989</td>\n",
       "      <td>0.000465</td>\n",
       "      <td>most_frequent</td>\n",
       "      <td>median</td>\n",
       "      <td>{'preprocessing__cat_pipeline__imputer__strate...</td>\n",
       "      <td>0.855513</td>\n",
       "      <td>0.823084</td>\n",
       "      <td>0.803867</td>\n",
       "      <td>0.888615</td>\n",
       "      <td>0.632403</td>\n",
       "      <td>0.800696</td>\n",
       "      <td>0.088959</td>\n",
       "      <td>2</td>\n",
       "    </tr>\n",
       "    <tr>\n",
       "      <th>2</th>\n",
       "      <td>2.255180</td>\n",
       "      <td>2.044423</td>\n",
       "      <td>0.015141</td>\n",
       "      <td>0.000428</td>\n",
       "      <td>most_frequent</td>\n",
       "      <td>most_frequent</td>\n",
       "      <td>{'preprocessing__cat_pipeline__imputer__strate...</td>\n",
       "      <td>0.855823</td>\n",
       "      <td>0.823196</td>\n",
       "      <td>0.804183</td>\n",
       "      <td>0.888832</td>\n",
       "      <td>0.635000</td>\n",
       "      <td>0.801407</td>\n",
       "      <td>0.088066</td>\n",
       "      <td>1</td>\n",
       "    </tr>\n",
       "  </tbody>\n",
       "</table>\n",
       "</div>"
      ],
      "text/plain": [
       "   mean_fit_time  std_fit_time  mean_score_time  std_score_time  \\\n",
       "0       2.324479      2.151807         0.015626        0.000922   \n",
       "1       2.242864      2.056707         0.014989        0.000465   \n",
       "2       2.255180      2.044423         0.015141        0.000428   \n",
       "\n",
       "  param_preprocessing__cat_pipeline__imputer__strategy  \\\n",
       "0                                      most_frequent     \n",
       "1                                      most_frequent     \n",
       "2                                      most_frequent     \n",
       "\n",
       "  param_preprocessing__num_pipeline__imputer__strategy  \\\n",
       "0                                               mean     \n",
       "1                                             median     \n",
       "2                                      most_frequent     \n",
       "\n",
       "                                              params  split0_test_score  \\\n",
       "0  {'preprocessing__cat_pipeline__imputer__strate...           0.855704   \n",
       "1  {'preprocessing__cat_pipeline__imputer__strate...           0.855513   \n",
       "2  {'preprocessing__cat_pipeline__imputer__strate...           0.855823   \n",
       "\n",
       "   split1_test_score  split2_test_score  split3_test_score  split4_test_score  \\\n",
       "0           0.822841           0.803811           0.888467           0.632368   \n",
       "1           0.823084           0.803867           0.888615           0.632403   \n",
       "2           0.823196           0.804183           0.888832           0.635000   \n",
       "\n",
       "   mean_test_score  std_test_score  rank_test_score  \n",
       "0         0.800638        0.088954                3  \n",
       "1         0.800696        0.088959                2  \n",
       "2         0.801407        0.088066                1  "
      ]
     },
     "execution_count": 6,
     "metadata": {},
     "output_type": "execute_result"
    }
   ],
   "source": [
    "pd.DataFrame(grid_search.cv_results_)"
   ]
  },
  {
   "cell_type": "code",
   "execution_count": 7,
   "metadata": {},
   "outputs": [
    {
     "data": {
      "text/plain": [
       "Pipeline(steps=[('preprocessing',\n",
       "                 ColumnTransformer(transformers=[('num_pipeline',\n",
       "                                                  Pipeline(steps=[('imputer',\n",
       "                                                                   SimpleImputer(strategy='most_frequent')),\n",
       "                                                                  ('scaler',\n",
       "                                                                   StandardScaler())]),\n",
       "                                                  Index(['MSSubClass', 'LotFrontage', 'LotArea', 'OverallQual', 'OverallCond',\n",
       "       'YearBuilt', 'YearRemodAdd', 'MasVnrArea', 'BsmtFinSF1', 'BsmtFinSF2',\n",
       "       'BsmtUnfSF', 'TotalBsmtSF', '1stFlr...\n",
       "       'Exterior2nd', 'MasVnrType', 'ExterQual', 'ExterCond', 'Foundation',\n",
       "       'BsmtQual', 'BsmtCond', 'BsmtExposure', 'BsmtFinType1', 'BsmtFinType2',\n",
       "       'Heating', 'HeatingQC', 'CentralAir', 'Electrical', 'KitchenQual',\n",
       "       'Functional', 'FireplaceQu', 'GarageType', 'GarageFinish', 'GarageQual',\n",
       "       'GarageCond', 'PavedDrive', 'PoolQC', 'Fence', 'MiscFeature',\n",
       "       'SaleType', 'SaleCondition'],\n",
       "      dtype='object'))])),\n",
       "                ('lasso', Lasso(max_iter=10000))])"
      ]
     },
     "execution_count": 7,
     "metadata": {},
     "output_type": "execute_result"
    }
   ],
   "source": [
    "grid_search.best_estimator_"
   ]
  },
  {
   "cell_type": "code",
   "execution_count": 8,
   "metadata": {},
   "outputs": [
    {
     "data": {
      "text/plain": [
       "{'preprocessing__cat_pipeline__imputer__strategy': 'most_frequent',\n",
       " 'preprocessing__num_pipeline__imputer__strategy': 'most_frequent'}"
      ]
     },
     "execution_count": 8,
     "metadata": {},
     "output_type": "execute_result"
    }
   ],
   "source": [
    "grid_search.best_params_"
   ]
  },
  {
   "cell_type": "code",
   "execution_count": 9,
   "metadata": {},
   "outputs": [
    {
     "data": {
      "text/plain": [
       "0.8014070988628038"
      ]
     },
     "execution_count": 9,
     "metadata": {},
     "output_type": "execute_result"
    }
   ],
   "source": [
    "grid_search.best_score_"
   ]
  },
  {
   "cell_type": "code",
   "execution_count": 10,
   "metadata": {},
   "outputs": [
    {
     "data": {
      "text/plain": [
       "5.486163854598999"
      ]
     },
     "execution_count": 10,
     "metadata": {},
     "output_type": "execute_result"
    }
   ],
   "source": [
    "grid_search.refit_time_"
   ]
  },
  {
   "cell_type": "markdown",
   "metadata": {},
   "source": [
    "# References\n",
    "* [scikit-learn GridSearchCV]('https://scikit-learn.org/stable/modules/generated/sklearn.model_selection.GridSearchCV.html')"
   ]
  },
  {
   "cell_type": "code",
   "execution_count": null,
   "metadata": {},
   "outputs": [],
   "source": []
  }
 ],
 "metadata": {
  "kernelspec": {
   "display_name": "venv-feature-engineering",
   "language": "python",
   "name": "venv-feature-engineering"
  },
  "language_info": {
   "codemirror_mode": {
    "name": "ipython",
    "version": 3
   },
   "file_extension": ".py",
   "mimetype": "text/x-python",
   "name": "python",
   "nbconvert_exporter": "python",
   "pygments_lexer": "ipython3",
   "version": "3.7.3"
  }
 },
 "nbformat": 4,
 "nbformat_minor": 4
}
